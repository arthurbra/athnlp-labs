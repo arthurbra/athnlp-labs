{
 "cells": [
  {
   "cell_type": "code",
   "execution_count": 1,
   "metadata": {},
   "outputs": [],
   "source": [
    "from athnlp.readers.brown_pos_corpus import BrownPosTag\n",
    "import numpy as np"
   ]
  },
  {
   "cell_type": "code",
   "execution_count": 2,
   "metadata": {},
   "outputs": [
    {
     "name": "stdout",
     "output_type": "stream",
     "text": [
      "vocabulary size:  17427\n",
      "train/dev/test set length:  10000 1000 1000\n",
      "First train sentence:  Merger/noun proposed/verb \n",
      "First dev sentence:  To/prt provide/verb service/noun of/adp local/adj origin/noun to/adp as/adv many/adj listeners/noun as/adp possible/adj ./. \n"
     ]
    }
   ],
   "source": [
    "corpus = BrownPosTag()\n",
    "print(\"vocabulary size: \", len(corpus.dictionary.x_dict))\n",
    "print(\"train/dev/test set length: \", len(corpus.train), len(corpus.dev), len(corpus.test))\n",
    "print(\"First train sentence: \", corpus.train[0])\n",
    "print(\"First dev sentence: \", corpus.dev[0])\n",
    "#print(\"First test sentence: \", corpus.test[0])"
   ]
  },
  {
   "cell_type": "code",
   "execution_count": 3,
   "metadata": {},
   "outputs": [
    {
     "data": {
      "text/plain": [
       "It/pron urged/verb that/adp the/det city/noun ``/. take/verb steps/noun to/prt remedy/verb ''/. this/det problem/noun ./. "
      ]
     },
     "execution_count": 3,
     "metadata": {},
     "output_type": "execute_result"
    }
   ],
   "source": [
    "corpus.train[1]"
   ]
  },
  {
   "cell_type": "code",
   "execution_count": 4,
   "metadata": {},
   "outputs": [
    {
     "name": "stdout",
     "output_type": "stream",
     "text": [
      "[2, 3, 4, 5, 6, 7, 8, 9, 10, 11, 12, 13, 14, 15]\n",
      "[2, 1, 3, 4, 0, 5, 1, 0, 6, 1, 5, 4, 0, 5]\n"
     ]
    }
   ],
   "source": [
    "print(corpus.train[1].x)\n",
    "print(corpus.train[1].y)"
   ]
  },
  {
   "cell_type": "code",
   "execution_count": null,
   "metadata": {},
   "outputs": [],
   "source": []
  },
  {
   "cell_type": "code",
   "execution_count": 5,
   "metadata": {},
   "outputs": [],
   "source": [
    "def one_hot(x, num):\n",
    "    arr = np.zeros(num)\n",
    "    arr[x] = 1\n",
    "    return arr\n",
    "\n"
   ]
  },
  {
   "cell_type": "code",
   "execution_count": 6,
   "metadata": {},
   "outputs": [
    {
     "data": {
      "text/plain": [
       "array([0., 0., 1., 0., 0.])"
      ]
     },
     "execution_count": 6,
     "metadata": {},
     "output_type": "execute_result"
    }
   ],
   "source": [
    "one_hot(2, 5)"
   ]
  },
  {
   "cell_type": "code",
   "execution_count": 7,
   "metadata": {},
   "outputs": [
    {
     "data": {
      "text/plain": [
       "2"
      ]
     },
     "execution_count": 7,
     "metadata": {},
     "output_type": "execute_result"
    }
   ],
   "source": [
    "def feature_x(x):\n",
    "    return one_hot(x, word_count)\n",
    "\n",
    "def feature_y(y):\n",
    "    return one_hot(y, label_count)\n",
    "           \n",
    "\n",
    "        \n",
    "np.sum(np.equal([1, 0, 1], [1, 0, 0]))        "
   ]
  },
  {
   "cell_type": "code",
   "execution_count": 8,
   "metadata": {},
   "outputs": [],
   "source": [
    "word_count = len(corpus.dictionary.x_dict)\n",
    "label_count = len(corpus.dictionary.y_dict)"
   ]
  },
  {
   "cell_type": "code",
   "execution_count": 9,
   "metadata": {},
   "outputs": [
    {
     "name": "stdout",
     "output_type": "stream",
     "text": [
      "words:17427\n",
      "labels:12\n"
     ]
    }
   ],
   "source": [
    "print(\"words:\" + str(word_count))\n",
    "print(\"labels:\" + str(label_count))"
   ]
  },
  {
   "cell_type": "code",
   "execution_count": 10,
   "metadata": {},
   "outputs": [
    {
     "data": {
      "text/plain": [
       "[[(0, 1), (0, 3), (0, 4)],\n",
       " [(0, 1), (0, 3), (1, 5)],\n",
       " [(0, 1), (1, 4), (0, 4)],\n",
       " [(0, 1), (1, 4), (1, 5)],\n",
       " [(1, 2), (0, 3), (0, 4)],\n",
       " [(1, 2), (0, 3), (1, 5)],\n",
       " [(1, 2), (1, 4), (0, 4)],\n",
       " [(1, 2), (1, 4), (1, 5)]]"
      ]
     },
     "execution_count": 10,
     "metadata": {},
     "output_type": "execute_result"
    }
   ],
   "source": [
    "def all_paths(logits_seq):\n",
    "    if len(logits_seq) == 0:\n",
    "        return []\n",
    "    next_paths = all_paths(logits_seq[1:])\n",
    "    result = []\n",
    "    for i, l in enumerate(logits_seq[0]):\n",
    "        if len(next_paths) > 0:\n",
    "            for np in next_paths:          \n",
    "                p  = [(i, l)]\n",
    "                p.extend(np)\n",
    "                result.append(p)\n",
    "        else:\n",
    "            result.append([(i, l)])\n",
    "            \n",
    "    return result\n",
    "\n",
    "all_paths([[1, 2], [3, 4], [4, 5]])\n"
   ]
  },
  {
   "cell_type": "code",
   "execution_count": 11,
   "metadata": {},
   "outputs": [
    {
     "data": {
      "text/plain": [
       "[1, 0]"
      ]
     },
     "execution_count": 11,
     "metadata": {},
     "output_type": "execute_result"
    }
   ],
   "source": [
    "def path_score(path):\n",
    "    score = 0\n",
    "    for (l, s) in path:\n",
    "        score += s\n",
    "    return score\n",
    "\n",
    "def best_path(logits_seq):\n",
    "    possible_paths = all_paths(logits_seq)\n",
    "    sorted_paths = list(sorted(possible_paths, key=path_score, reverse=True))\n",
    "    best = sorted_paths[0]\n",
    "    \n",
    "    result = [l for (l, s) in best]\n",
    "    return result\n",
    "\n",
    "best_path([[1, 2], [2, 1]])"
   ]
  },
  {
   "cell_type": "code",
   "execution_count": null,
   "metadata": {},
   "outputs": [],
   "source": []
  },
  {
   "cell_type": "code",
   "execution_count": 12,
   "metadata": {},
   "outputs": [
    {
     "data": {
      "text/plain": [
       "[[(1, 3), (2, 4)]]"
      ]
     },
     "execution_count": 12,
     "metadata": {},
     "output_type": "execute_result"
    }
   ],
   "source": [
    "def top_paths(paths, top):\n",
    "    sorted_paths = list(sorted(paths, key=path_score, reverse=True))\n",
    "    best = sorted_paths[0:top]    \n",
    "    return best\n",
    "\n",
    "top_paths([[(1, 3), (2, 4)], [(1, 3), (2, 4)]], 1)"
   ]
  },
  {
   "cell_type": "code",
   "execution_count": 13,
   "metadata": {},
   "outputs": [
    {
     "data": {
      "text/plain": [
       "[[(0, 3), (1, 4)], [(0, 1), (1, 3)], [(0, 2), (1, 4)]]"
      ]
     },
     "execution_count": 13,
     "metadata": {},
     "output_type": "execute_result"
    }
   ],
   "source": [
    "def convert_logits_seq(logits_seq):\n",
    "    result = []\n",
    "    for logits in logits_seq:\n",
    "        logits_result = []\n",
    "        for i, l in enumerate(logits):\n",
    "            logits_result.append((i, l))\n",
    "        result.append(logits_result)\n",
    "    return result\n",
    "\n",
    "convert_logits_seq([[3, 4], [1, 3], [2, 4]])"
   ]
  },
  {
   "cell_type": "code",
   "execution_count": 14,
   "metadata": {},
   "outputs": [
    {
     "data": {
      "text/plain": [
       "[2, 0]"
      ]
     },
     "execution_count": 14,
     "metadata": {},
     "output_type": "execute_result"
    }
   ],
   "source": [
    "def beam_best_path(logits_seq, beam_size):\n",
    "    logs_with_label = convert_logits_seq(logits_seq)\n",
    "    best = beam_best_path_helper([], logs_with_label, beam_size)\n",
    "    top_path = top_paths(best, 1)[0]\n",
    "    return [l for (l, s) in top_path]\n",
    "\n",
    "def beam_best_path_helper(prev_paths, logits_seq, beam_size):\n",
    "    \n",
    "    if len(prev_paths) == 0:\n",
    "        paths = [[ls] for ls in logits_seq[0]] \n",
    "    else:\n",
    "        paths = []\n",
    "        for pp in prev_paths:\n",
    "            for ls in logits_seq[0]:\n",
    "                r = pp + [ls]\n",
    "                paths.append(r)\n",
    "    tops = top_paths(paths, beam_size)\n",
    "    \n",
    "    if len(logits_seq) > 1:\n",
    "        return beam_best_path_helper(tops, logits_seq[1:], beam_size=2)    \n",
    "    else:\n",
    "        return tops\n",
    "    \n",
    "    \n",
    "beam_best_path([[1, 2, 3], [3, 2, 1]], beam_size=2)    "
   ]
  },
  {
   "cell_type": "code",
   "execution_count": null,
   "metadata": {},
   "outputs": [],
   "source": []
  },
  {
   "cell_type": "code",
   "execution_count": null,
   "metadata": {},
   "outputs": [],
   "source": []
  },
  {
   "cell_type": "code",
   "execution_count": 23,
   "metadata": {},
   "outputs": [],
   "source": [
    "def predict(weights, sent):\n",
    "    logits_seq = []\n",
    "    for word_idx, word in enumerate(sent):\n",
    "        x = feature_x(word)    \n",
    "        logits = np.matmul(weights, x)\n",
    "        logits_seq.append(logits)\n",
    "    #path = best_path(logits_seq)\n",
    "    path = beam_best_path(logits_seq, beam_size=10)\n",
    "    return path\n",
    "\n",
    "def compare_sequences(y_true, y_hat):\n",
    "    correct = np.sum(np.equal(y_true, y_hat))   \n",
    "    total = len(y_true)\n",
    "    return correct, total\n",
    "    \n",
    "def accuracy_dev(weights):\n",
    "    correct_count = 0\n",
    "    total_count = 0\n",
    "    for i, sent in enumerate(corpus.dev):       \n",
    "        y_hat = predict(weights, sent.x)\n",
    "        y_true = sent.y\n",
    "        correct, total = compare_sequences(y_true, y_hat)\n",
    "        correct_count += correct\n",
    "        total_count += total\n",
    "    return correct_count / total_count\n"
   ]
  },
  {
   "cell_type": "code",
   "execution_count": 24,
   "metadata": {},
   "outputs": [
    {
     "name": "stdout",
     "output_type": "stream",
     "text": [
      "0.27510962622676965\n"
     ]
    }
   ],
   "source": [
    "w = np.zeros(shape=(label_count, word_count))\n",
    "\n",
    "print(accuracy_dev(w))"
   ]
  },
  {
   "cell_type": "code",
   "execution_count": 25,
   "metadata": {},
   "outputs": [
    {
     "name": "stdout",
     "output_type": "stream",
     "text": [
      "0.27510962622676965\n",
      "Accuracy: 0.9031112967216538\n",
      "Accuracy: 0.9006055543954896\n",
      "Accuracy: 0.8830653581123408\n",
      "Accuracy: 0.902276049279599\n",
      "Accuracy: 0.9024848611401127\n"
     ]
    }
   ],
   "source": [
    "w = np.zeros(shape=(label_count, word_count))\n",
    "\n",
    "print(accuracy_dev(w))\n",
    "\n",
    "for epoch in range(5):\n",
    "    train = corpus.train\n",
    "    np.random.shuffle(train)\n",
    "    for sent in train:\n",
    "        y_hat_seq = predict(w, sent.x)\n",
    "        \n",
    "        y_true_seq = sent.y            \n",
    "        #print(\"p\")\n",
    "        #print(\"y_hat: \" + str(y_hat_seq))\n",
    "        #print(\"y_true: \" +str(y_true_seq))\n",
    "        \n",
    "        for i, (y_hat, y_true) in enumerate(zip(y_hat_seq, y_true_seq)):\n",
    "            if y_hat != y_true:\n",
    "                x = feature_x(sent.x[i])    \n",
    "                w[y_true] = w[y_true] + x\n",
    "                w[y_hat] = w[y_hat] - x\n",
    "    \n",
    "    print(\"Accuracy: \" + str(accuracy_dev(w)))\n"
   ]
  },
  {
   "cell_type": "code",
   "execution_count": null,
   "metadata": {},
   "outputs": [],
   "source": []
  },
  {
   "cell_type": "code",
   "execution_count": null,
   "metadata": {},
   "outputs": [],
   "source": []
  }
 ],
 "metadata": {
  "kernelspec": {
   "display_name": "Python 3",
   "language": "python",
   "name": "python3"
  },
  "language_info": {
   "codemirror_mode": {
    "name": "ipython",
    "version": 3
   },
   "file_extension": ".py",
   "mimetype": "text/x-python",
   "name": "python",
   "nbconvert_exporter": "python",
   "pygments_lexer": "ipython3",
   "version": "3.6.9"
  }
 },
 "nbformat": 4,
 "nbformat_minor": 2
}
